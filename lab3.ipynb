{
  "nbformat": 4,
  "nbformat_minor": 0,
  "metadata": {
    "colab": {
      "name": "lab3.ipynb",
      "provenance": [],
      "authorship_tag": "ABX9TyMpmMKDOFfiAZn6GeUJMirl",
      "include_colab_link": true
    },
    "kernelspec": {
      "name": "python3",
      "display_name": "Python 3"
    },
    "language_info": {
      "name": "python"
    }
  },
  "cells": [
    {
      "cell_type": "markdown",
      "metadata": {
        "id": "view-in-github",
        "colab_type": "text"
      },
      "source": [
        "<a href=\"https://colab.research.google.com/github/ivovivanov/mlcourse/blob/main/lab3.ipynb\" target=\"_parent\"><img src=\"https://colab.research.google.com/assets/colab-badge.svg\" alt=\"Open In Colab\"/></a>"
      ]
    },
    {
      "cell_type": "code",
      "metadata": {
        "id": "cw5ICDy5TwF9"
      },
      "source": [
        "import numpy as np\n",
        "import pandas as pd"
      ],
      "execution_count": 1,
      "outputs": []
    },
    {
      "cell_type": "markdown",
      "metadata": {
        "id": "cXunTi13T6zv"
      },
      "source": [
        "## Task create series object with numbers [1..10], indexed as latin lowercase alpha"
      ]
    },
    {
      "cell_type": "code",
      "metadata": {
        "colab": {
          "base_uri": "https://localhost:8080/"
        },
        "id": "NvrQzn99UHdy",
        "outputId": "6f93f430-a497-4b56-d48a-540de1fa1205"
      },
      "source": [
        "from string import ascii_lowercase as alc\n",
        "limit = 10\n",
        "s1 = pd.Series(range(1, limit+1), list(alc)[:10])\n",
        "s1"
      ],
      "execution_count": 7,
      "outputs": [
        {
          "output_type": "execute_result",
          "data": {
            "text/plain": [
              "a     1\n",
              "b     2\n",
              "c     3\n",
              "d     4\n",
              "e     5\n",
              "f     6\n",
              "g     7\n",
              "h     8\n",
              "i     9\n",
              "j    10\n",
              "dtype: int64"
            ]
          },
          "metadata": {},
          "execution_count": 7
        }
      ]
    },
    {
      "cell_type": "code",
      "metadata": {
        "colab": {
          "base_uri": "https://localhost:8080/"
        },
        "id": "5LfxpejmXCE9",
        "outputId": "45afd545-4031-437d-909c-b03b928b4402"
      },
      "source": [
        "s1[-3:] # last 3 elements"
      ],
      "execution_count": 8,
      "outputs": [
        {
          "output_type": "execute_result",
          "data": {
            "text/plain": [
              "h     8\n",
              "i     9\n",
              "j    10\n",
              "dtype: int64"
            ]
          },
          "metadata": {},
          "execution_count": 8
        }
      ]
    },
    {
      "cell_type": "code",
      "metadata": {
        "colab": {
          "base_uri": "https://localhost:8080/"
        },
        "id": "RUWo4ajSYutk",
        "outputId": "93dff273-270f-4498-c903-3ec45910f8c4"
      },
      "source": [
        "# np array are by default passed as reference\n",
        "arr = np.arange(6)\n",
        "s2 = pd.Series(arr) # s2 = pd.Series(arr, copy=True)\n",
        "print(s2)\n",
        "arr[3] = '123'\n",
        "print(s2)"
      ],
      "execution_count": 9,
      "outputs": [
        {
          "output_type": "stream",
          "name": "stdout",
          "text": [
            "0    0\n",
            "1    1\n",
            "2    2\n",
            "3    3\n",
            "4    4\n",
            "5    5\n",
            "dtype: int64\n",
            "0      0\n",
            "1      1\n",
            "2      2\n",
            "3    123\n",
            "4      4\n",
            "5      5\n",
            "dtype: int64\n"
          ]
        }
      ]
    },
    {
      "cell_type": "markdown",
      "metadata": {
        "id": "CsPgW65iZo5F"
      },
      "source": [
        "# Mask List"
      ]
    },
    {
      "cell_type": "code",
      "metadata": {
        "colab": {
          "base_uri": "https://localhost:8080/"
        },
        "id": "QFdm1G8YZnlI",
        "outputId": "b83a31db-d8bd-43d8-da6a-734b2acfc103"
      },
      "source": [
        "arr1 = np.arange(10)\n",
        "arr1[arr1%2==0]"
      ],
      "execution_count": 13,
      "outputs": [
        {
          "output_type": "execute_result",
          "data": {
            "text/plain": [
              "array([0, 2, 4, 6, 8])"
            ]
          },
          "metadata": {},
          "execution_count": 13
        }
      ]
    },
    {
      "cell_type": "markdown",
      "metadata": {
        "id": "DNs3D9Lna5OE"
      },
      "source": [
        "# S1 from above"
      ]
    },
    {
      "cell_type": "code",
      "metadata": {
        "colab": {
          "base_uri": "https://localhost:8080/"
        },
        "id": "gmHAFofLa-yK",
        "outputId": "ef7e7e9f-4391-460b-896b-a77b7d0a4c99"
      },
      "source": [
        "1 in s1"
      ],
      "execution_count": 15,
      "outputs": [
        {
          "output_type": "execute_result",
          "data": {
            "text/plain": [
              "False"
            ]
          },
          "metadata": {},
          "execution_count": 15
        }
      ]
    },
    {
      "cell_type": "code",
      "metadata": {
        "colab": {
          "base_uri": "https://localhost:8080/"
        },
        "id": "xOcSaTaoaRJ-",
        "outputId": "652b6b1f-bcd5-4061-8951-b74cb187ee54"
      },
      "source": [
        "# same s1 from above\n",
        "'a' in s1"
      ],
      "execution_count": 14,
      "outputs": [
        {
          "output_type": "execute_result",
          "data": {
            "text/plain": [
              "True"
            ]
          },
          "metadata": {},
          "execution_count": 14
        }
      ]
    },
    {
      "cell_type": "code",
      "metadata": {
        "colab": {
          "base_uri": "https://localhost:8080/"
        },
        "id": "_XST2xvmbEOr",
        "outputId": "479bf6ed-0a01-4c67-b94c-9a89c0e565c0"
      },
      "source": [
        "s1[s1==5]"
      ],
      "execution_count": 16,
      "outputs": [
        {
          "output_type": "execute_result",
          "data": {
            "text/plain": [
              "e    5\n",
              "dtype: int64"
            ]
          },
          "metadata": {},
          "execution_count": 16
        }
      ]
    },
    {
      "cell_type": "code",
      "metadata": {
        "colab": {
          "base_uri": "https://localhost:8080/"
        },
        "id": "o70wifNYbIwk",
        "outputId": "966207e1-c097-45d4-ac37-bf377b377ab0"
      },
      "source": [
        "s1.dtype # by default is very large"
      ],
      "execution_count": 19,
      "outputs": [
        {
          "output_type": "execute_result",
          "data": {
            "text/plain": [
              "dtype('int64')"
            ]
          },
          "metadata": {},
          "execution_count": 19
        }
      ]
    }
  ]
}